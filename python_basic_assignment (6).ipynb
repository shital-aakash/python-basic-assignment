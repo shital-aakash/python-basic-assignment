{
  "nbformat": 4,
  "nbformat_minor": 0,
  "metadata": {
    "colab": {
      "provenance": []
    },
    "kernelspec": {
      "name": "python3",
      "display_name": "Python 3"
    },
    "language_info": {
      "name": "python"
    }
  },
  "cells": [
    {
      "cell_type": "code",
      "execution_count": null,
      "metadata": {
        "id": "aoOa0T7o09kE"
      },
      "outputs": [],
      "source": []
    },
    {
      "cell_type": "markdown",
      "source": [
        "1. What is Python And why it is popular?\n",
        "- Python is versatile high level programming language known for its readability and ease\n",
        "of use, making it popular for various applications, including web development, data\n",
        "science and automation. Its popularity stem from its simple syntax, extensive libraries\n",
        "and large, supportive community.\n",
        "2. What is an interpreter in Python?\n",
        "- In Python an interpreter is a program that reads an execute Python code line by line,\n",
        "translating it into machine-readable instruction for the computer to understand and run.\n",
        "3. What are predefined keywords in Python?\n",
        "- Keywords in Python are preferred reserved words with special meaning so the\n",
        "interpreter can understand them. They perform specific task in Python programming\n",
        "and are a part of its syntax.\n",
        "4. Can keywords be used as variable names?\n",
        "- No, you can use keywords as variable names in most programming language because\n",
        "keywords are reserved words with specific meanings and using them as variable names\n",
        "would lead to syntax errors.\n",
        "5. What is mutability in Python?\n",
        "- In Python mutability referred to an object ability to be changed after its created;\n",
        "mutable objects can be modified in place, while immutable objects cannot.\n",
        "6. Why are list mutable but tuples are immutable?\n",
        "- tuples and list are the same in every way except two; tuples use parenthesis instead of\n",
        "square bracket and the item in tuples cannot be modified (but the item in list can be\n",
        "modified). We often call list mutable (meaning they can be changed) and tuples\n",
        "immutable (meaning they cannot be changed).\n",
        "7. What is the difference between “==” and “is” operator in Python?\n",
        "- In Python, == checks for value equality (if two objects have the same content), while is\n",
        "checks for object identity (if 2 variables point to the same object in memory).\n",
        "8. What are logical operators in Python?\n",
        "- In Python, logical operators and or, and not, are used to combine or reserve boolean\n",
        "expressions, resulting in a new boolean value (true or false).\n",
        "9. What is type casting in Python?\n",
        "- In Python, type casting (also known as type conversion) is the process of converting a\n",
        "variable’s data type to another, either implicitly (automatically by Python) or explicitly\n",
        "(using built in function like int(), float(), str() etc).\n",
        "10. What is the difference between implicit and explicit type casting?\n",
        "- Implicit type casting is automatic while explicit type casting is done by the programmer.\n",
        "11. What is the purpose of conditional statement in Python?\n",
        "- Conditional statement in Python, like if, elif and else, allow your code to make decision\n",
        "and execute different blocks of code based on whether a condition is true or false,\n",
        "enabling dynamic or flexible program execution.\n",
        "12. How does the elif statement works?\n",
        "- If the first condition is false, it moves on to the next “elif” statement to check if that\n",
        "condition is true.\n",
        "13. What is the difference between for and while loop?\n",
        "- The key difference between for and while loop lies in when the loop’s condition is\n",
        "checked; for loops are used when you know the number of iterations beforehand, while\n",
        "while loops are used when the number of iterations depends on the condition that\n",
        "might not be known in advance.\n",
        "\n",
        "14. Describe a scenario where a while loop is more suitable than a for loop.\n",
        "- In contrast to a “for” loop, which is generally used when the number of iteration is\n",
        "known beforehand, a “while” loop is ideal for situation where the number of iterations is\n",
        "not predetermined and depend on some dynamic conditions."
      ],
      "metadata": {
        "id": "XNMrLsjD4svc"
      }
    },
    {
      "cell_type": "code",
      "source": [
        "# write a Python program to print \"Hello, World!\n",
        "print(\"Hello, World!\")"
      ],
      "metadata": {
        "colab": {
          "base_uri": "https://localhost:8080/"
        },
        "id": "-TQXEnV32yzu",
        "outputId": "02ad50c9-8dfd-434a-c3ca-d129c48abfc3"
      },
      "execution_count": null,
      "outputs": [
        {
          "output_type": "stream",
          "name": "stdout",
          "text": [
            "Hello, World!\n"
          ]
        }
      ]
    },
    {
      "cell_type": "code",
      "source": [
        "#write a Python program that displays your name and age\n",
        "name = \"Shital\"\n",
        "age = 30\n",
        "print(\"Name:\", name)\n",
        "print(\"Age:\", age)\n"
      ],
      "metadata": {
        "colab": {
          "base_uri": "https://localhost:8080/"
        },
        "id": "c398r2fQ3Mb0",
        "outputId": "7167bf99-d87c-4d29-f0d0-700800cb3660"
      },
      "execution_count": null,
      "outputs": [
        {
          "output_type": "stream",
          "name": "stdout",
          "text": [
            "Name: Shital\n",
            "Age: 30\n"
          ]
        }
      ]
    },
    {
      "cell_type": "code",
      "source": [
        "# write a program to  print all the pre-defined keywords in Python using the keyword library\n",
        "import keyword\n",
        "print(keyword.kwlist)"
      ],
      "metadata": {
        "colab": {
          "base_uri": "https://localhost:8080/"
        },
        "id": "idjSCLJu3eRD",
        "outputId": "72975f7d-4246-4860-8e65-b77c5f1cfc60"
      },
      "execution_count": null,
      "outputs": [
        {
          "output_type": "stream",
          "name": "stdout",
          "text": [
            "['False', 'None', 'True', 'and', 'as', 'assert', 'async', 'await', 'break', 'class', 'continue', 'def', 'del', 'elif', 'else', 'except', 'finally', 'for', 'from', 'global', 'if', 'import', 'in', 'is', 'lambda', 'nonlocal', 'not', 'or', 'pass', 'raise', 'return', 'try', 'while', 'with', 'yield']\n"
          ]
        }
      ]
    },
    {
      "cell_type": "code",
      "source": [
        "#write a  program that checks if a given word is a Python keyword.\n",
        "import keyword\n",
        "word = input(\"Enter a word: \")\n",
        "if keyword.iskeyword(word):\n",
        "    print(f\"{word} is a Python keyword.\")\n",
        "else:\n",
        "    print(f\"{word} is not a Python keyword.\")"
      ],
      "metadata": {
        "colab": {
          "base_uri": "https://localhost:8080/"
        },
        "id": "JgSZyZ4n3uzT",
        "outputId": "a5d5f9ec-db34-4302-e057-3def46f16be8"
      },
      "execution_count": null,
      "outputs": [
        {
          "output_type": "stream",
          "name": "stdout",
          "text": [
            "Enter a word: False\n",
            "False is a Python keyword.\n"
          ]
        }
      ]
    },
    {
      "cell_type": "code",
      "source": [
        "# write a program to  Create a list and tuple in Python and demonstrate how attempting to change an element works differently for each\n",
        "x = (\"apple\",\"banana\",\"cherry\")\n",
        "y = list(x)\n",
        "y[1] = \"kiwi\"\n",
        "x = tuple(y)\n",
        "print(x)"
      ],
      "metadata": {
        "colab": {
          "base_uri": "https://localhost:8080/"
        },
        "id": "sGQzGgca4Gfc",
        "outputId": "ee814723-0772-4e96-e35b-b3a3640b8ee4"
      },
      "execution_count": null,
      "outputs": [
        {
          "output_type": "stream",
          "name": "stdout",
          "text": [
            "('apple', 'kiwi', 'cherry')\n"
          ]
        }
      ]
    },
    {
      "cell_type": "code",
      "source": [
        "#write a function to demonstrate the behavior of mutable and immutable arguments.\n",
        "\n",
        "def modify_list(my_list):\n",
        "    my_list.append(\"new item\")\n",
        "\n",
        "original_list = [1, 2, 3]\n",
        "modify_list(original_list)\n",
        "print(original_list)   #mutable arg"
      ],
      "metadata": {
        "colab": {
          "base_uri": "https://localhost:8080/"
        },
        "id": "lR-dMbnE6Q1n",
        "outputId": "162a174a-67ca-46b9-a9a5-9993ce66e5fb"
      },
      "execution_count": null,
      "outputs": [
        {
          "output_type": "stream",
          "name": "stdout",
          "text": [
            "[1, 2, 3, 'new item']\n"
          ]
        }
      ]
    },
    {
      "cell_type": "code",
      "source": [
        "def modify_string(my_string):\n",
        "    my_string += \" world\"\n",
        "\n",
        "original_string = \"Hello\"\n",
        "modify_string(original_string)\n",
        "print(original_string)   #immutable arg"
      ],
      "metadata": {
        "colab": {
          "base_uri": "https://localhost:8080/"
        },
        "id": "cO-I5aHr8Fsm",
        "outputId": "e3e9e133-52d6-4751-cf65-71aa2e51a630"
      },
      "execution_count": null,
      "outputs": [
        {
          "output_type": "stream",
          "name": "stdout",
          "text": [
            "Hello\n"
          ]
        }
      ]
    },
    {
      "cell_type": "code",
      "source": [
        "# write a program to performs basic arithmetic operations on two user-input numbers.\n",
        "a = int(input(\"Enter the value of a: \"))\n",
        "b = int(input(\"Enter the value of b: \"))\n",
        "print(\"Addition: \",a+b)\n",
        "print(\"Subtraction: \",a-b)\n",
        "print(\"Multiplication: \",a*b)\n",
        "print(\"Division: \",a/b)\n",
        "\n"
      ],
      "metadata": {
        "colab": {
          "base_uri": "https://localhost:8080/"
        },
        "id": "9F8IWfo_8XPc",
        "outputId": "b58b0e5d-301a-4a10-c829-f4d93e485b80"
      },
      "execution_count": null,
      "outputs": [
        {
          "output_type": "stream",
          "name": "stdout",
          "text": [
            "Enter the value of a: 2\n",
            "Enter the value of b: 3\n",
            "Addition:  5\n",
            "Subtraction:  -1\n",
            "Multiplication:  6\n",
            "Division:  0.6666666666666666\n"
          ]
        }
      ]
    },
    {
      "cell_type": "code",
      "source": [
        "#write a program to  demonstrate the use of logical operators.\n",
        "x = True\n",
        "y = False\n",
        "print(\"x and y:\", x and y)\n",
        "print(\"x or y:\", x or y)\n",
        "print(\"not x\", not x)\n",
        "\n"
      ],
      "metadata": {
        "colab": {
          "base_uri": "https://localhost:8080/"
        },
        "id": "wUuI-Rbz9YZ6",
        "outputId": "808674a4-34bd-427d-9799-967166d74aed"
      },
      "execution_count": null,
      "outputs": [
        {
          "output_type": "stream",
          "name": "stdout",
          "text": [
            "x and y: False\n",
            "x or y: True\n",
            "not x False\n"
          ]
        }
      ]
    },
    {
      "cell_type": "code",
      "source": [
        "#write a program to convert user input from string to integer, float, and boolean types.\n",
        "string_value = \"62\"\n",
        "int_value = int(string_value)\n",
        "float_value = float(string_value)\n",
        "bool_value = bool(string_value)\n",
        "\n",
        "print(int_value)\n",
        "print(float_value)\n",
        "print(bool_value)"
      ],
      "metadata": {
        "colab": {
          "base_uri": "https://localhost:8080/"
        },
        "id": "8tMUMWOz95FQ",
        "outputId": "c4770902-872b-4035-8dd8-0dfae7cc0c49"
      },
      "execution_count": null,
      "outputs": [
        {
          "output_type": "stream",
          "name": "stdout",
          "text": [
            "62\n",
            "62.0\n",
            "True\n"
          ]
        }
      ]
    },
    {
      "cell_type": "code",
      "source": [
        "#write a program to demonstrate type casting with list elements.\n",
        "a=[\"1\",\"2\",\"3\",\"4\"]\n",
        "list(map(int,a))\n"
      ],
      "metadata": {
        "colab": {
          "base_uri": "https://localhost:8080/"
        },
        "id": "-ioEnrXp_Bmt",
        "outputId": "651d1ae0-93d2-4992-ce62-94432644ad1b"
      },
      "execution_count": null,
      "outputs": [
        {
          "output_type": "execute_result",
          "data": {
            "text/plain": [
              "[1, 2, 3, 4]"
            ]
          },
          "metadata": {},
          "execution_count": 30
        }
      ]
    },
    {
      "cell_type": "code",
      "source": [
        "#write a program to  checks if a number is positive, negative, or zero.\n",
        "num=int(input(\"Enter the number: \"))\n",
        "if num> 0:\n",
        "  print(\"positive\")\n",
        "\n",
        "elif num==0:\n",
        "  print(\"zero\")\n",
        "else:\n",
        "  print(\"negative\")\n"
      ],
      "metadata": {
        "colab": {
          "base_uri": "https://localhost:8080/"
        },
        "id": "vqsfMM1Q_qtr",
        "outputId": "7796e574-5bbd-4b15-fabb-01a5f6ff3d0f"
      },
      "execution_count": null,
      "outputs": [
        {
          "output_type": "stream",
          "name": "stdout",
          "text": [
            "Enter the number: 12\n",
            "positive\n"
          ]
        }
      ]
    },
    {
      "cell_type": "code",
      "source": [
        "# write ba program  for loop to print numbers from 1 to 10.\n",
        "print(\"print integers from 1 to 10 using for loop: \")\n",
        "for i in range(1,11):\n",
        "    print(i)"
      ],
      "metadata": {
        "colab": {
          "base_uri": "https://localhost:8080/"
        },
        "id": "szmkp0YzAuQg",
        "outputId": "aae0e181-2cd5-49d1-960d-537f5d1743bc"
      },
      "execution_count": null,
      "outputs": [
        {
          "output_type": "stream",
          "name": "stdout",
          "text": [
            "print integers from 1 to 10 using for loop: \n",
            "1\n",
            "2\n",
            "3\n",
            "4\n",
            "5\n",
            "6\n",
            "7\n",
            "8\n",
            "9\n",
            "10\n"
          ]
        }
      ]
    },
    {
      "cell_type": "code",
      "source": [
        "#write a program to find the sum of all even numbers between 1 and 50.\n",
        "sum_of_even = 0\n",
        "for num in range(2, 51, 2):\n",
        "    sum_of_even += num\n",
        "\n",
        "print(\"The sum of even numbers between 1 and 50 is:\", sum_of_even)"
      ],
      "metadata": {
        "colab": {
          "base_uri": "https://localhost:8080/"
        },
        "id": "yrSAJs5bBj4G",
        "outputId": "09f47ae7-f49b-4e06-b964-a76c870555e4"
      },
      "execution_count": null,
      "outputs": [
        {
          "output_type": "stream",
          "name": "stdout",
          "text": [
            "The sum of even numbers between 1 and 50 is: 650\n"
          ]
        }
      ]
    },
    {
      "cell_type": "code",
      "source": [
        "#write a program to  reverse a string using a while loop.\n",
        "string = input(\"Enter a string: \")\n",
        "reversed_string = \"\"\n",
        "index = len(string) - 1\n",
        "\n",
        "while index >= 0:\n",
        "    reversed_string += string[index]\n",
        "    index -= 1\n",
        "\n",
        "print(\"Reversed string:\", reversed_string)"
      ],
      "metadata": {
        "colab": {
          "base_uri": "https://localhost:8080/"
        },
        "id": "3EKOCkuYCGcj",
        "outputId": "75546029-6df3-4065-dfda-1ffc190efa30"
      },
      "execution_count": null,
      "outputs": [
        {
          "output_type": "stream",
          "name": "stdout",
          "text": [
            "Enter a string: python\n",
            "Reversed string: nohtyp\n"
          ]
        }
      ]
    },
    {
      "cell_type": "code",
      "source": [
        "#write a program to calculate the factorial of a number provided by the user using a while loop.\n",
        "num=int(input(\"Enter the number: \"))\n",
        "factorial=1\n",
        "while num>0:\n",
        "  factorial=factorial*num\n",
        "  num=num-1\n",
        "print(\"factorial is: \",factorial)\n"
      ],
      "metadata": {
        "colab": {
          "base_uri": "https://localhost:8080/"
        },
        "id": "SVDnZVvoCcTU",
        "outputId": "f682cb45-fbd5-4704-cf2c-85988ee06b48"
      },
      "execution_count": null,
      "outputs": [
        {
          "output_type": "stream",
          "name": "stdout",
          "text": [
            "Enter the number: 12\n",
            "factorial is:  479001600\n"
          ]
        }
      ]
    }
  ]
}